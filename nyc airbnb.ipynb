{
  "cells": [
    {
      "metadata": {
        "dc": {
          "key": "4"
        },
        "deletable": false,
        "editable": false,
        "run_control": {
          "frozen": true
        },
        "tags": [
          "context"
        ],
        "id": "87RJz-FGFMfC"
      },
      "cell_type": "markdown",
      "source": [
        "## 1. Importing the Data\n",
        "From:\n",
        "<ol>\n",
        "<li><code>\"datasets/airbnb_price.csv\"</code></li>\n",
        "<li><code>\"datasets/airbnb_room_type.xlsx\"</code></li>\n",
        "<li><code>\"datasets/airbnb_last_review.tsv\"</code></li>\n",
        "</ol>"
      ]
    },
    {
      "metadata": {
        "dc": {
          "key": "4"
        },
        "tags": [
          "sample_code"
        ],
        "trusted": true,
        "colab": {
          "base_uri": "https://localhost:8080/"
        },
        "id": "vFm5VBruFMfF",
        "outputId": "99cc9e7b-4495-415c-abe8-cdefeb84bd35"
      },
      "cell_type": "code",
      "source": [
        "import pandas as pd\n",
        "import numpy as np\n",
        "import datetime as dt\n",
        "\n",
        "prices = pd.read_csv('/content/airbnb_price.csv')\n",
        "xls = pd.ExcelFile('/content/airbnb_room_type.xlsx')\n",
        "\n",
        "room_types = xls.parse(0)\n",
        "reviews = pd.read_csv(\"/content/airbnb_last_review.tsv\", sep=\"\\t\")\n",
        "\n",
        "print(prices.head(), \"\\n\", room_types.head(), \"\\n\", reviews.head())"
      ],
      "execution_count": 1,
      "outputs": [
        {
          "output_type": "stream",
          "name": "stdout",
          "text": [
            "   listing_id        price                nbhood_full\n",
            "0        2595  225 dollars         Manhattan, Midtown\n",
            "1        3831   89 dollars     Brooklyn, Clinton Hill\n",
            "2        5099  200 dollars     Manhattan, Murray Hill\n",
            "3        5178   79 dollars  Manhattan, Hell's Kitchen\n",
            "4        5238  150 dollars       Manhattan, Chinatown \n",
            "    listing_id                                description        room_type\n",
            "0        2595                      Skylit Midtown Castle  Entire home/apt\n",
            "1        3831            Cozy Entire Floor of Brownstone  Entire home/apt\n",
            "2        5099  Large Cozy 1 BR Apartment In Midtown East  Entire home/apt\n",
            "3        5178            Large Furnished Room Near B'way     private room\n",
            "4        5238         Cute & Cozy Lower East Side 1 bdrm  Entire home/apt \n",
            "    listing_id    host_name   last_review\n",
            "0        2595     Jennifer   May 21 2019\n",
            "1        3831  LisaRoxanne  July 05 2019\n",
            "2        5099        Chris  June 22 2019\n",
            "3        5178     Shunichi  June 24 2019\n",
            "4        5238          Ben  June 09 2019\n"
          ]
        }
      ]
    },
    {
      "metadata": {
        "dc": {
          "key": "13"
        },
        "deletable": false,
        "editable": false,
        "run_control": {
          "frozen": true
        },
        "tags": [
          "context"
        ],
        "id": "lPPMLCi2FMfH"
      },
      "cell_type": "markdown",
      "source": [
        "## 2. Cleaning the price column\n",
        "Steps:\n",
        "<ol>\n",
        "<li>calculating the average price per listing by <code>room_type</code></li>\n",
        "<li>cleaning the <code>price</code> column (removing 'dollars' string) in order to calculate the average price</li>\n",
        "</ol>"
      ]
    },
    {
      "metadata": {
        "dc": {
          "key": "13"
        },
        "tags": [
          "sample_code"
        ],
        "trusted": true,
        "colab": {
          "base_uri": "https://localhost:8080/"
        },
        "id": "1Aka1yN_FMfH",
        "outputId": "a2ef7860-494f-4aef-87b0-bc9445d106b9"
      },
      "cell_type": "code",
      "source": [
        "prices[\"price\"] = prices[\"price\"].str.replace(\" dollars\", \"\")\n",
        "prices[\"price\"] = pd.to_numeric(prices['price'])\n",
        "\n",
        "print(prices['price'].describe())"
      ],
      "execution_count": 2,
      "outputs": [
        {
          "output_type": "stream",
          "name": "stdout",
          "text": [
            "count    25209.000000\n",
            "mean       141.777936\n",
            "std        147.349137\n",
            "min          0.000000\n",
            "25%         69.000000\n",
            "50%        105.000000\n",
            "75%        175.000000\n",
            "max       7500.000000\n",
            "Name: price, dtype: float64\n"
          ]
        }
      ]
    },
    {
      "metadata": {
        "dc": {
          "key": "21"
        },
        "deletable": false,
        "editable": false,
        "run_control": {
          "frozen": true
        },
        "tags": [
          "context"
        ],
        "id": "Oe-4byPoFMfH"
      },
      "cell_type": "markdown",
      "source": [
        "## 3. Calculating average price\n",
        "<li>Three quarters of listings cost \\$175 per night or less</li>\n",
        "<li>There are some outliers including a maximum price of \\$7,500 per night!</li>\n",
        "<li>Some of listings show up as free</li>"
      ]
    },
    {
      "metadata": {
        "dc": {
          "key": "21"
        },
        "tags": [
          "sample_code"
        ],
        "trusted": true,
        "colab": {
          "base_uri": "https://localhost:8080/"
        },
        "id": "f1YQYXBkFMfI",
        "outputId": "2a339cb0-2225-47d0-e7ce-9487b09a5e80"
      },
      "cell_type": "code",
      "source": [
        "free_listings = prices[\"price\"] == 0\n",
        "prices = prices.loc[~free_listings]\n",
        "avg_price = round(prices['price'].mean(),2)\n",
        "\n",
        "print(\"The average price per night for an Airbnb listing in NYC is ${}.\".format(avg_price))"
      ],
      "execution_count": 3,
      "outputs": [
        {
          "output_type": "stream",
          "name": "stdout",
          "text": [
            "The average price per night for an Airbnb listing in NYC is $141.82.\n"
          ]
        }
      ]
    },
    {
      "metadata": {
        "dc": {
          "key": "29"
        },
        "deletable": false,
        "editable": false,
        "run_control": {
          "frozen": true
        },
        "tags": [
          "context"
        ],
        "id": "_w24J2TzFMfI"
      },
      "cell_type": "markdown",
      "source": [
        "## 4. Comparing costs to the private rental market\n",
        "<p>According to <a href=\"https://www.zumper.com/rent-research\">Zumper</a>, a 1 bedroom apartment in New York City costs, on average, $3,100 per month. The per night prices of listings into monthly costs is needed to compare to the private market. </p>"
      ]
    },
    {
      "metadata": {
        "dc": {
          "key": "29"
        },
        "tags": [
          "sample_code"
        ],
        "trusted": true,
        "colab": {
          "base_uri": "https://localhost:8080/"
        },
        "id": "LPyxl5LEFMfI",
        "outputId": "5c73f2cd-c269-49b7-c8f1-637e7bd18d00"
      },
      "cell_type": "code",
      "source": [
        "prices[\"price_per_month\"] = prices[\"price\"] * 365/12\n",
        "average_price_per_month = round(prices['price_per_month'].mean(),2)\n",
        "\n",
        "print(\"airbnb monthly costs are ${}, while in the private market you would pay {}.\".format(average_price_per_month,\"$3,100.00\"))"
      ],
      "execution_count": 4,
      "outputs": [
        {
          "output_type": "stream",
          "name": "stdout",
          "text": [
            "airbnb monthly costs are $4313.61, while in the private market you would pay $3,100.00.\n"
          ]
        },
        {
          "output_type": "stream",
          "name": "stderr",
          "text": [
            "/usr/local/lib/python3.7/dist-packages/ipykernel_launcher.py:1: SettingWithCopyWarning: \n",
            "A value is trying to be set on a copy of a slice from a DataFrame.\n",
            "Try using .loc[row_indexer,col_indexer] = value instead\n",
            "\n",
            "See the caveats in the documentation: https://pandas.pydata.org/pandas-docs/stable/user_guide/indexing.html#returning-a-view-versus-a-copy\n",
            "  \"\"\"Entry point for launching an IPython kernel.\n"
          ]
        }
      ]
    },
    {
      "metadata": {
        "dc": {
          "key": "37"
        },
        "deletable": false,
        "editable": false,
        "run_control": {
          "frozen": true
        },
        "tags": [
          "context"
        ],
        "id": "88sbxE9WFMfI"
      },
      "cell_type": "markdown",
      "source": [
        "## 5. Cleaning the room type column\n",
        "<p>To find out the breakdown of listings by type of room... The <code>room_type</code> column has several variations for <code>private room</code> listings, because of different case (upper and lower)."
      ]
    },
    {
      "metadata": {
        "dc": {
          "key": "37"
        },
        "tags": [
          "sample_code"
        ],
        "trusted": true,
        "colab": {
          "base_uri": "https://localhost:8080/"
        },
        "id": "qU9Jqxy6FMfJ",
        "outputId": "670e8448-5271-4e34-a410-016ff5c12dea"
      },
      "cell_type": "code",
      "source": [
        "room_types[\"room_type\"] = room_types[\"room_type\"].str.lower()\n",
        "room_types[\"room_type\"] = room_types[\"room_type\"].astype('category')\n",
        "room_frequencies = room_types['room_type'].value_counts()\n",
        "\n",
        "print(room_frequencies)"
      ],
      "execution_count": 5,
      "outputs": [
        {
          "output_type": "stream",
          "name": "stdout",
          "text": [
            "entire home/apt    13266\n",
            "private room       11356\n",
            "shared room          587\n",
            "Name: room_type, dtype: int64\n"
          ]
        }
      ]
    },
    {
      "metadata": {
        "dc": {
          "key": "45"
        },
        "deletable": false,
        "editable": false,
        "run_control": {
          "frozen": true
        },
        "tags": [
          "context"
        ],
        "id": "tdttX5CxFMfJ"
      },
      "cell_type": "markdown",
      "source": [
        "## 6. What timeframe are we working with?\n",
        "<p>Observation: There is a fairly similar sized market opportunity for both private rooms (45% of listings) and entire homes/apartments (52%) on the Airbnb platform in NYC.</p>\n",
        "<p>Also, the <code>last_review</code> column contains the date of the last review in the format of \"Month Day Year\" e.g., May 21 2019. To find out the earliest and latest review dates in the DataFrame, and ensuring the format allows this analysis to be easily conducted going forwards. </p>"
      ]
    },
    {
      "metadata": {
        "dc": {
          "key": "45"
        },
        "tags": [
          "sample_code"
        ],
        "trusted": true,
        "colab": {
          "base_uri": "https://localhost:8080/"
        },
        "id": "afcBIPT2FMfJ",
        "outputId": "bd6fe56f-2857-456a-d93f-4d36d5be9393"
      },
      "cell_type": "code",
      "source": [
        "reviews[\"last_review\"] = pd.to_datetime(reviews['last_review'])\n",
        "first_reviewed = reviews[\"last_review\"].dt.date.min()\n",
        "last_reviewed = reviews[\"last_review\"].dt.date.max()\n",
        "\n",
        "print(\"The latest Airbnb review is {}, the earliest review is {}\".format(first_reviewed,last_reviewed))"
      ],
      "execution_count": 6,
      "outputs": [
        {
          "output_type": "stream",
          "name": "stdout",
          "text": [
            "The latest Airbnb review is 2019-01-01, the earliest review is 2019-07-09\n"
          ]
        }
      ]
    },
    {
      "metadata": {
        "dc": {
          "key": "53"
        },
        "deletable": false,
        "editable": false,
        "run_control": {
          "frozen": true
        },
        "tags": [
          "context"
        ],
        "id": "I1Oi9Xv1FMfK"
      },
      "cell_type": "markdown",
      "source": [
        "## 7. Joining the DataFrames.\n",
        "<p>After joining the data, any observations with missing values and duplicates are removed.</p>"
      ]
    },
    {
      "metadata": {
        "dc": {
          "key": "53"
        },
        "tags": [
          "sample_code"
        ],
        "trusted": true,
        "colab": {
          "base_uri": "https://localhost:8080/"
        },
        "id": "uqhLuy9QFMfK",
        "outputId": "4de76711-8177-4efc-b7a8-509661cfd6c4"
      },
      "cell_type": "code",
      "source": [
        "rooms_and_prices = prices.merge(room_types, how='outer', on='listing_id')\n",
        "airbnb_merged = rooms_and_prices.merge(reviews, how='outer', on='listing_id')\n",
        "airbnb_merged.dropna(inplace=True)\n",
        "\n",
        "print(\"There are {} duplicates in the DataFrame.\".format(airbnb_merged.duplicated().sum()))"
      ],
      "execution_count": 7,
      "outputs": [
        {
          "output_type": "stream",
          "name": "stdout",
          "text": [
            "There are 0 duplicates in the DataFrame.\n"
          ]
        }
      ]
    },
    {
      "metadata": {
        "dc": {
          "key": "61"
        },
        "deletable": false,
        "editable": false,
        "run_control": {
          "frozen": true
        },
        "tags": [
          "context"
        ],
        "id": "NIzqJ1vcFMfK"
      },
      "cell_type": "markdown",
      "source": [
        "## 8. Analyzing listing prices by NYC borough\n",
        "Boroughs are listed as the first part of a string within the <code>nbhood_full</code> column, e.g.,\n",
        "<pre><code>Manhattan, Midtown\n",
        "Brooklyn, Clinton Hill\n",
        "Manhattan, Murray Hill\n",
        "Manhattan, Hell's Kitchen\n",
        "Manhattan, Chinatown</code></pre>\n"
      ]
    },
    {
      "metadata": {
        "dc": {
          "key": "61"
        },
        "tags": [
          "sample_code"
        ],
        "trusted": true,
        "colab": {
          "base_uri": "https://localhost:8080/"
        },
        "id": "KxRF67IbFMfK",
        "outputId": "a54b4ac3-6216-4d4c-b834-cefb8fc40b25"
      },
      "cell_type": "code",
      "source": [
        "airbnb_merged[\"borough\"] = airbnb_merged[\"nbhood_full\"].str.partition(\",\")[0]\n",
        "boroughs = airbnb_merged.groupby(\"borough\")[\"price\"].agg([\"sum\", \"mean\", \"median\", \"count\"])\n",
        "boroughs = boroughs.round(2).sort_values(\"mean\", ascending=False)\n",
        "\n",
        "print(boroughs)"
      ],
      "execution_count": 8,
      "outputs": [
        {
          "output_type": "stream",
          "name": "stdout",
          "text": [
            "                     sum    mean  median  count\n",
            "borough                                        \n",
            "Manhattan      1898417.0  184.04   149.0  10315\n",
            "Brooklyn       1275250.0  122.02    95.0  10451\n",
            "Queens          320715.0   92.83    70.0   3455\n",
            "Staten Island    22974.0   86.04    71.0    267\n",
            "Bronx            55156.0   79.25    65.0    696\n"
          ]
        }
      ]
    },
    {
      "metadata": {
        "dc": {
          "key": "69"
        },
        "deletable": false,
        "editable": false,
        "run_control": {
          "frozen": true
        },
        "tags": [
          "context"
        ],
        "id": "Bcs2ORXhFMfK"
      },
      "cell_type": "markdown",
      "source": [
        "## 9. Price range by borough\n",
        "<p>To categorize listings based on whether they fall into specific price ranges, and view this by borough:\n",
        "<br>\n",
        "Used percentiles and labels to create a new column, <code>price_range</code>, in the DataFrame.\n",
        "Grouped the data and count frequencies for listings in each price range by borough; \n",
        "And assigned the following categories and price ranges:</p>\n",
        "<table>\n",
        "<thead>\n",
        "<tr>\n",
        "<th>label</th>\n",
        "<th>price</th>\n",
        "</tr>\n",
        "</thead>\n",
        "<tbody>\n",
        "<tr>\n",
        "<td><code>Budget</code></td>\n",
        "<td>\\$0-69</td>\n",
        "</tr>\n",
        "<tr>\n",
        "<td><code>Average</code></td>\n",
        "<td>\\$70-175</td>\n",
        "</tr>\n",
        "<tr>\n",
        "<td><code>Expensive</code></td>\n",
        "<td>\\$176-350</td>\n",
        "</tr>\n",
        "<tr>\n",
        "<td><code>Extravagant</code></td>\n",
        "<td>&gt; \\$350</td>\n",
        "</tr>\n",
        "</tbody>\n",
        "</table>"
      ]
    },
    {
      "metadata": {
        "dc": {
          "key": "69"
        },
        "tags": [
          "sample_code"
        ],
        "trusted": true,
        "colab": {
          "base_uri": "https://localhost:8080/"
        },
        "id": "Jf5NY6SZFMfL",
        "outputId": "1ca7bf3d-4a69-47ce-a518-8df9fa79d31f"
      },
      "cell_type": "code",
      "source": [
        "label_names = [\"Budget\", \"Average\", \"Expensive\", \"Extravagant\"]\n",
        "ranges = [0, 69, 175, 350, np.inf]\n",
        "airbnb_merged[\"price_range\"] = pd.cut(airbnb_merged[\"price\"], bins=ranges, labels=label_names)\n",
        "\n",
        "prices_by_borough = airbnb_merged.groupby([\"borough\", \"price_range\"])[\"price_range\"].count()\n",
        "print(prices_by_borough)"
      ],
      "execution_count": 9,
      "outputs": [
        {
          "output_type": "stream",
          "name": "stdout",
          "text": [
            "borough        price_range\n",
            "Bronx          Budget          381\n",
            "               Average         285\n",
            "               Expensive        25\n",
            "               Extravagant       5\n",
            "Brooklyn       Budget         3194\n",
            "               Average        5532\n",
            "               Expensive      1466\n",
            "               Extravagant     259\n",
            "Manhattan      Budget         1148\n",
            "               Average        5285\n",
            "               Expensive      3072\n",
            "               Extravagant     810\n",
            "Queens         Budget         1631\n",
            "               Average        1505\n",
            "               Expensive       291\n",
            "               Extravagant      28\n",
            "Staten Island  Budget          124\n",
            "               Average         123\n",
            "               Expensive        20\n",
            "               Extravagant       0\n",
            "Name: price_range, dtype: int64\n"
          ]
        }
      ]
    }
  ],
  "metadata": {
    "kernelspec": {
      "name": "python3",
      "display_name": "Python 3",
      "language": "python"
    },
    "language_info": {
      "name": "python",
      "version": "3.6.7",
      "mimetype": "text/x-python",
      "codemirror_mode": {
        "name": "ipython",
        "version": 3
      },
      "pygments_lexer": "ipython3",
      "nbconvert_exporter": "python",
      "file_extension": ".py"
    },
    "colab": {
      "provenance": []
    }
  },
  "nbformat": 4,
  "nbformat_minor": 0
}